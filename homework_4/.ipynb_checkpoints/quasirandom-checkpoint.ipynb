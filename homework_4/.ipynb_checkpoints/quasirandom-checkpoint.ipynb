{
 "cells": [
  {
   "cell_type": "code",
   "execution_count": 8,
   "metadata": {},
   "outputs": [],
   "source": [
    "%matplotlib inline"
   ]
  },
  {
   "cell_type": "code",
   "execution_count": 9,
   "metadata": {},
   "outputs": [
    {
     "name": "stdout",
     "output_type": "stream",
     "text": [
      "h1.py             h3.py             quasirandom.ipynb\r\n"
     ]
    }
   ],
   "source": [
    "!ls"
   ]
  },
  {
   "cell_type": "code",
   "execution_count": 10,
   "metadata": {},
   "outputs": [],
   "source": [
    "from matplotlib import pyplot as plt\n",
    "import numpy as np\n",
    "from scipy.special import comb"
   ]
  },
  {
   "cell_type": "code",
   "execution_count": 11,
   "metadata": {},
   "outputs": [],
   "source": [
    "a_star = 9.6\n",
    "n = 10\n",
    "s = 10\n",
    "def a_hat_calc(a_star, n):\n",
    "    t = a_star/n\n",
    "    return t/(1-t)"
   ]
  },
  {
   "cell_type": "code",
   "execution_count": 21,
   "metadata": {},
   "outputs": [],
   "source": [
    "def P(n, j, a_hat):\n",
    "    numerator = comb(n, j)*(a_hat**(j))\n",
    "    denominator = [comb(n, k)*(a_hat**k) for k in range(j+1)]\n",
    "    denominator = sum(denominator)\n",
    "    return numerator/denominator"
   ]
  },
  {
   "cell_type": "code",
   "execution_count": 24,
   "metadata": {},
   "outputs": [
    {
     "name": "stdout",
     "output_type": "stream",
     "text": [
      "23.99999999999998\n",
      "9.999999999999991\n",
      "P[10] 0.665 pi 0.000\n",
      "ro 0.960\n",
      "-\n",
      "6.857142857142854\n",
      "2.857142857142856\n",
      "P[11] 0.462 pi 0.256\n",
      "ro 0.920\n",
      "-\n",
      "3.9999999999999982\n",
      "1.666666666666666\n",
      "P[12] 0.391 pi 0.258\n",
      "ro 0.897\n",
      "-\n",
      "2.8235294117647047\n",
      "1.1764705882352937\n",
      "P[13] 0.352 pi 0.253\n",
      "ro 0.882\n",
      "-\n",
      "2.181818181818182\n",
      "0.9090909090909093\n",
      "P[14] 0.327 pi 0.247\n",
      "ro 0.870\n",
      "-\n",
      "1.777777777777778\n",
      "0.7407407407407408\n",
      "P[15] 0.309 pi 0.242\n",
      "ro 0.861\n",
      "-\n",
      "0.6233766233766234\n",
      "0.25974025974025977\n",
      "P[25] 0.245 pi 0.219\n",
      "ro 0.819\n",
      "-\n",
      "0.2376237623762376\n",
      "0.09900990099009901\n",
      "P[50] 0.217 pi 0.206\n",
      "ro 0.794\n",
      "-\n",
      "0.10619469026548672\n",
      "0.04424778761061947\n",
      "P[100] 0.206 pi 0.201\n",
      "ro 0.782\n",
      "-\n",
      "0.009693053311793215\n",
      "0.004038772213247173\n",
      "P[1000] 0.197 pi 0.196\n",
      "ro 0.773\n",
      "-\n"
     ]
    }
   ],
   "source": [
    "for n in [10,11,12,13,14,15,25,50,100,1000]:\n",
    "    a_hat = a_hat_calc(a_star, n)\n",
    "    p = P(n, s, a_hat)\n",
    "    a_prime = a_star*(1 - (1 - s/n)*p)\n",
    "    print('P[{}] {:.3f}'.format(n, float(p)), 'pi {:.3f}'.format(P(n-1, s, a_hat)))\n",
    "    print('ro {:.3f}'.format(a_prime/s))\n",
    "    print('-')\n",
    "    "
   ]
  },
  {
   "cell_type": "code",
   "execution_count": null,
   "metadata": {},
   "outputs": [],
   "source": []
  },
  {
   "cell_type": "code",
   "execution_count": null,
   "metadata": {},
   "outputs": [],
   "source": []
  }
 ],
 "metadata": {
  "kernelspec": {
   "display_name": "Python 3",
   "language": "python",
   "name": "python3"
  },
  "language_info": {
   "codemirror_mode": {
    "name": "ipython",
    "version": 3
   },
   "file_extension": ".py",
   "mimetype": "text/x-python",
   "name": "python",
   "nbconvert_exporter": "python",
   "pygments_lexer": "ipython3",
   "version": "3.7.6"
  }
 },
 "nbformat": 4,
 "nbformat_minor": 4
}
