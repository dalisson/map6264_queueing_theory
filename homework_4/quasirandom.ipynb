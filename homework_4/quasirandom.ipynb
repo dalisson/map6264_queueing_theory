{
 "cells": [
  {
   "cell_type": "code",
   "execution_count": 1,
   "metadata": {},
   "outputs": [],
   "source": [
    "%matplotlib inline"
   ]
  },
  {
   "cell_type": "code",
   "execution_count": 2,
   "metadata": {},
   "outputs": [
    {
     "name": "stdout",
     "output_type": "stream",
     "text": [
      "h1.py             h4.py             quasirandom.ipynb\r\n"
     ]
    }
   ],
   "source": [
    "!ls"
   ]
  },
  {
   "cell_type": "code",
   "execution_count": 3,
   "metadata": {},
   "outputs": [],
   "source": [
    "from matplotlib import pyplot as plt\n",
    "import numpy as np\n",
    "from scipy.special import comb"
   ]
  },
  {
   "cell_type": "code",
   "execution_count": 4,
   "metadata": {},
   "outputs": [],
   "source": [
    "a_star = 9.6\n",
    "n = 10\n",
    "s = 10\n",
    "def a_hat_calc(a_star, n):\n",
    "    t = a_star/n\n",
    "    return t/(1-t)"
   ]
  },
  {
   "cell_type": "code",
   "execution_count": 5,
   "metadata": {},
   "outputs": [],
   "source": [
    "def P(n, j, a_hat):\n",
    "    numerator = comb(n, j)*(a_hat**(j))\n",
    "    denominator = [comb(n, k)*(a_hat**k) for k in range(j+1)]\n",
    "    denominator = sum(denominator)\n",
    "    return numerator/denominator"
   ]
  },
  {
   "cell_type": "code",
   "execution_count": 6,
   "metadata": {},
   "outputs": [
    {
     "name": "stdout",
     "output_type": "stream",
     "text": [
      "P[10] 0.665 pi 0.000\n",
      "ro 0.960\n",
      "-\n",
      "P[11] 0.462 pi 0.256\n",
      "ro 0.920\n",
      "-\n",
      "P[12] 0.391 pi 0.258\n",
      "ro 0.897\n",
      "-\n",
      "P[13] 0.352 pi 0.253\n",
      "ro 0.882\n",
      "-\n",
      "P[14] 0.327 pi 0.247\n",
      "ro 0.870\n",
      "-\n",
      "P[15] 0.309 pi 0.242\n",
      "ro 0.861\n",
      "-\n",
      "P[25] 0.245 pi 0.219\n",
      "ro 0.819\n",
      "-\n",
      "P[50] 0.217 pi 0.206\n",
      "ro 0.794\n",
      "-\n",
      "P[100] 0.206 pi 0.201\n",
      "ro 0.782\n",
      "-\n",
      "P[1000] 0.197 pi 0.196\n",
      "ro 0.773\n",
      "-\n"
     ]
    }
   ],
   "source": [
    "for n in [10,11,12,13,14,15,25,50,100,1000]:\n",
    "    a_hat = a_hat_calc(a_star, n)\n",
    "    p = P(n, s, a_hat)\n",
    "    a_prime = a_star*(1 - (1 - s/n)*p)\n",
    "    print('P[{}] {:.3f}'.format(n, float(p)), 'pi {:.3f}'.format(P(n-1, s, a_hat)))\n",
    "    print('ro {:.3f}'.format(a_prime/s))\n",
    "    print('-')\n",
    "    "
   ]
  },
  {
   "cell_type": "code",
   "execution_count": null,
   "metadata": {},
   "outputs": [],
   "source": []
  },
  {
   "cell_type": "code",
   "execution_count": null,
   "metadata": {},
   "outputs": [],
   "source": []
  }
 ],
 "metadata": {
  "kernelspec": {
   "display_name": "Python 3",
   "language": "python",
   "name": "python3"
  },
  "language_info": {
   "codemirror_mode": {
    "name": "ipython",
    "version": 3
   },
   "file_extension": ".py",
   "mimetype": "text/x-python",
   "name": "python",
   "nbconvert_exporter": "python",
   "pygments_lexer": "ipython3",
   "version": "3.7.6"
  }
 },
 "nbformat": 4,
 "nbformat_minor": 4
}
