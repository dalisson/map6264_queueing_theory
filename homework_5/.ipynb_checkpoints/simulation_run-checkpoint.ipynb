{
 "cells": [
  {
   "cell_type": "code",
   "execution_count": 1,
   "metadata": {},
   "outputs": [],
   "source": [
    "from h5 import simulation"
   ]
  },
  {
   "cell_type": "code",
   "execution_count": 2,
   "metadata": {},
   "outputs": [
    {
     "name": "stdout",
     "output_type": "stream",
     "text": [
      "-----------\n",
      "carried load  0.5905760153760368\n",
      "utilization  0.5905760153760368\n",
      "E(W) 1.0077712818562516\n",
      "Fraction of lost customers 0.26393\n",
      "-----------\n",
      "-----------\n",
      "carried load  0.5884660451906482\n",
      "utilization  0.5884660451906482\n",
      "E(W) 0.9979191142938032\n",
      "Fraction of lost customers 0.26181\n",
      "-----------\n",
      "-----------\n",
      "carried load  0.6595644939388144\n",
      "utilization  0.6595644939388144\n",
      "E(W) 1.4450923750999376\n",
      "Fraction of lost customers 0.17516\n",
      "-----------\n",
      "-----------\n",
      "carried load  0.7273334139902329\n",
      "utilization  0.7273334139902329\n",
      "E(W) 2.210737357340577\n",
      "Fraction of lost customers 0.08777\n",
      "-----------\n",
      "-----------\n",
      "carried load  0.7787372747726002\n",
      "utilization  0.7787372747726002\n",
      "E(W) 3.431254689830479\n",
      "Fraction of lost customers 0.03144\n",
      "-----------\n",
      "-----------\n",
      "carried load  0.8042918369803017\n",
      "utilization  0.8042918369803017\n",
      "E(W) 4.763634618490301\n",
      "Fraction of lost customers 0.00507\n",
      "-----------\n",
      "-----------\n",
      "carried load  0.8015254997119363\n",
      "utilization  0.8015254997119363\n",
      "E(W) 5.048990368426805\n",
      "Fraction of lost customers 9e-05\n",
      "-----------\n"
     ]
    }
   ],
   "source": [
    "for n in [0,1,2,4,8,16,32]:\n",
    "    simulation(100000, n, 1, 0.8)"
   ]
  },
  {
   "cell_type": "code",
   "execution_count": null,
   "metadata": {},
   "outputs": [],
   "source": []
  }
 ],
 "metadata": {
  "kernelspec": {
   "display_name": "Python 3",
   "language": "python",
   "name": "python3"
  },
  "language_info": {
   "codemirror_mode": {
    "name": "ipython",
    "version": 3
   },
   "file_extension": ".py",
   "mimetype": "text/x-python",
   "name": "python",
   "nbconvert_exporter": "python",
   "pygments_lexer": "ipython3",
   "version": "3.7.6"
  }
 },
 "nbformat": 4,
 "nbformat_minor": 4
}
